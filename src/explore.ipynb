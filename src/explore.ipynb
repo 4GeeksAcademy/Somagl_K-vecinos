{
    "cells": [
        {
            "cell_type": "markdown",
            "metadata": {},
            "source": [
                "# Importar librerías"
            ]
        },
        {
            "cell_type": "code",
            "execution_count": 122,
            "metadata": {},
            "outputs": [],
            "source": [
                "import pandas as pd\n",
                "from sklearn.model_selection import train_test_split\n",
                "from sklearn.neighbors import KNeighborsClassifier\n",
                "from sklearn.preprocessing import StandardScaler, MinMaxScaler\n",
                "from sklearn.metrics import *\n",
                "import matplotlib.pyplot as plt\n",
                "import joblib\n",
                "import seaborn as sns\n",
                "import numpy as np"
            ]
        },
        {
            "cell_type": "markdown",
            "metadata": {},
            "source": [
                "# Carga de datos"
            ]
        },
        {
            "cell_type": "code",
            "execution_count": 123,
            "metadata": {},
            "outputs": [
                {
                    "data": {
                        "text/html": [
                            "<div>\n",
                            "<style scoped>\n",
                            "    .dataframe tbody tr th:only-of-type {\n",
                            "        vertical-align: middle;\n",
                            "    }\n",
                            "\n",
                            "    .dataframe tbody tr th {\n",
                            "        vertical-align: top;\n",
                            "    }\n",
                            "\n",
                            "    .dataframe thead th {\n",
                            "        text-align: right;\n",
                            "    }\n",
                            "</style>\n",
                            "<table border=\"1\" class=\"dataframe\">\n",
                            "  <thead>\n",
                            "    <tr style=\"text-align: right;\">\n",
                            "      <th></th>\n",
                            "      <th>fixed acidity</th>\n",
                            "      <th>volatile acidity</th>\n",
                            "      <th>citric acid</th>\n",
                            "      <th>residual sugar</th>\n",
                            "      <th>chlorides</th>\n",
                            "      <th>free sulfur dioxide</th>\n",
                            "      <th>total sulfur dioxide</th>\n",
                            "      <th>density</th>\n",
                            "      <th>pH</th>\n",
                            "      <th>sulphates</th>\n",
                            "      <th>alcohol</th>\n",
                            "      <th>quality</th>\n",
                            "    </tr>\n",
                            "  </thead>\n",
                            "  <tbody>\n",
                            "    <tr>\n",
                            "      <th>0</th>\n",
                            "      <td>7.4</td>\n",
                            "      <td>0.70</td>\n",
                            "      <td>0.00</td>\n",
                            "      <td>1.9</td>\n",
                            "      <td>0.076</td>\n",
                            "      <td>11.0</td>\n",
                            "      <td>34.0</td>\n",
                            "      <td>0.9978</td>\n",
                            "      <td>3.51</td>\n",
                            "      <td>0.56</td>\n",
                            "      <td>9.4</td>\n",
                            "      <td>5</td>\n",
                            "    </tr>\n",
                            "    <tr>\n",
                            "      <th>1</th>\n",
                            "      <td>7.8</td>\n",
                            "      <td>0.88</td>\n",
                            "      <td>0.00</td>\n",
                            "      <td>2.6</td>\n",
                            "      <td>0.098</td>\n",
                            "      <td>25.0</td>\n",
                            "      <td>67.0</td>\n",
                            "      <td>0.9968</td>\n",
                            "      <td>3.20</td>\n",
                            "      <td>0.68</td>\n",
                            "      <td>9.8</td>\n",
                            "      <td>5</td>\n",
                            "    </tr>\n",
                            "    <tr>\n",
                            "      <th>2</th>\n",
                            "      <td>7.8</td>\n",
                            "      <td>0.76</td>\n",
                            "      <td>0.04</td>\n",
                            "      <td>2.3</td>\n",
                            "      <td>0.092</td>\n",
                            "      <td>15.0</td>\n",
                            "      <td>54.0</td>\n",
                            "      <td>0.9970</td>\n",
                            "      <td>3.26</td>\n",
                            "      <td>0.65</td>\n",
                            "      <td>9.8</td>\n",
                            "      <td>5</td>\n",
                            "    </tr>\n",
                            "    <tr>\n",
                            "      <th>3</th>\n",
                            "      <td>11.2</td>\n",
                            "      <td>0.28</td>\n",
                            "      <td>0.56</td>\n",
                            "      <td>1.9</td>\n",
                            "      <td>0.075</td>\n",
                            "      <td>17.0</td>\n",
                            "      <td>60.0</td>\n",
                            "      <td>0.9980</td>\n",
                            "      <td>3.16</td>\n",
                            "      <td>0.58</td>\n",
                            "      <td>9.8</td>\n",
                            "      <td>6</td>\n",
                            "    </tr>\n",
                            "    <tr>\n",
                            "      <th>4</th>\n",
                            "      <td>7.4</td>\n",
                            "      <td>0.70</td>\n",
                            "      <td>0.00</td>\n",
                            "      <td>1.9</td>\n",
                            "      <td>0.076</td>\n",
                            "      <td>11.0</td>\n",
                            "      <td>34.0</td>\n",
                            "      <td>0.9978</td>\n",
                            "      <td>3.51</td>\n",
                            "      <td>0.56</td>\n",
                            "      <td>9.4</td>\n",
                            "      <td>5</td>\n",
                            "    </tr>\n",
                            "  </tbody>\n",
                            "</table>\n",
                            "</div>"
                        ],
                        "text/plain": [
                            "   fixed acidity  volatile acidity  citric acid  residual sugar  chlorides  \\\n",
                            "0            7.4              0.70         0.00             1.9      0.076   \n",
                            "1            7.8              0.88         0.00             2.6      0.098   \n",
                            "2            7.8              0.76         0.04             2.3      0.092   \n",
                            "3           11.2              0.28         0.56             1.9      0.075   \n",
                            "4            7.4              0.70         0.00             1.9      0.076   \n",
                            "\n",
                            "   free sulfur dioxide  total sulfur dioxide  density    pH  sulphates  \\\n",
                            "0                 11.0                  34.0   0.9978  3.51       0.56   \n",
                            "1                 25.0                  67.0   0.9968  3.20       0.68   \n",
                            "2                 15.0                  54.0   0.9970  3.26       0.65   \n",
                            "3                 17.0                  60.0   0.9980  3.16       0.58   \n",
                            "4                 11.0                  34.0   0.9978  3.51       0.56   \n",
                            "\n",
                            "   alcohol  quality  \n",
                            "0      9.4        5  \n",
                            "1      9.8        5  \n",
                            "2      9.8        5  \n",
                            "3      9.8        6  \n",
                            "4      9.4        5  "
                        ]
                    },
                    "execution_count": 123,
                    "metadata": {},
                    "output_type": "execute_result"
                }
            ],
            "source": [
                "df = pd.read_csv(\"https://raw.githubusercontent.com/4GeeksAcademy/k-nearest-neighbors-project-tutorial/refs/heads/main/winequality-red.csv\", sep= ';')\n",
                "df.head()"
            ]
        },
        {
            "cell_type": "markdown",
            "metadata": {},
            "source": [
                "# Preparación de datos"
            ]
        },
        {
            "cell_type": "code",
            "execution_count": 124,
            "metadata": {},
            "outputs": [
                {
                    "name": "stdout",
                    "output_type": "stream",
                    "text": [
                        "(1599, 12)\n",
                        "<class 'pandas.core.frame.DataFrame'>\n",
                        "RangeIndex: 1599 entries, 0 to 1598\n",
                        "Data columns (total 12 columns):\n",
                        " #   Column                Non-Null Count  Dtype  \n",
                        "---  ------                --------------  -----  \n",
                        " 0   fixed acidity         1599 non-null   float64\n",
                        " 1   volatile acidity      1599 non-null   float64\n",
                        " 2   citric acid           1599 non-null   float64\n",
                        " 3   residual sugar        1599 non-null   float64\n",
                        " 4   chlorides             1599 non-null   float64\n",
                        " 5   free sulfur dioxide   1599 non-null   float64\n",
                        " 6   total sulfur dioxide  1599 non-null   float64\n",
                        " 7   density               1599 non-null   float64\n",
                        " 8   pH                    1599 non-null   float64\n",
                        " 9   sulphates             1599 non-null   float64\n",
                        " 10  alcohol               1599 non-null   float64\n",
                        " 11  quality               1599 non-null   int64  \n",
                        "dtypes: float64(11), int64(1)\n",
                        "memory usage: 150.0 KB\n"
                    ]
                }
            ],
            "source": [
                "print(df.shape)\n",
                "df.info()"
            ]
        },
        {
            "cell_type": "code",
            "execution_count": 125,
            "metadata": {},
            "outputs": [
                {
                    "data": {
                        "text/plain": [
                            "fixed acidity            96\n",
                            "volatile acidity        143\n",
                            "citric acid              80\n",
                            "residual sugar           91\n",
                            "chlorides               153\n",
                            "free sulfur dioxide      60\n",
                            "total sulfur dioxide    144\n",
                            "density                 436\n",
                            "pH                       89\n",
                            "sulphates                96\n",
                            "alcohol                  65\n",
                            "quality                   6\n",
                            "dtype: int64"
                        ]
                    },
                    "execution_count": 125,
                    "metadata": {},
                    "output_type": "execute_result"
                }
            ],
            "source": [
                "n_unicos = df.nunique()\n",
                "n_unicos"
            ]
        },
        {
            "cell_type": "code",
            "execution_count": 126,
            "metadata": {},
            "outputs": [],
            "source": [
                "# Eliminamos duplicados\n",
                "df = df.drop_duplicates()"
            ]
        },
        {
            "cell_type": "code",
            "execution_count": 127,
            "metadata": {},
            "outputs": [],
            "source": [
                "# Hacemos la clasificación indicada en las instrucciones\n",
                "def quality_classification(valor):\n",
                "    if valor <= 4:\n",
                "        return 0  # Baja calidad\n",
                "    elif valor <= 6:\n",
                "        return 1  # Calidad media\n",
                "    else:\n",
                "        return 2  # Alta calidad\n",
                "\n",
                "df['quality_classification'] = df['quality'].apply(quality_classification)"
            ]
        },
        {
            "cell_type": "code",
            "execution_count": 128,
            "metadata": {},
            "outputs": [
                {
                    "data": {
                        "text/html": [
                            "<div>\n",
                            "<style scoped>\n",
                            "    .dataframe tbody tr th:only-of-type {\n",
                            "        vertical-align: middle;\n",
                            "    }\n",
                            "\n",
                            "    .dataframe tbody tr th {\n",
                            "        vertical-align: top;\n",
                            "    }\n",
                            "\n",
                            "    .dataframe thead th {\n",
                            "        text-align: right;\n",
                            "    }\n",
                            "</style>\n",
                            "<table border=\"1\" class=\"dataframe\">\n",
                            "  <thead>\n",
                            "    <tr style=\"text-align: right;\">\n",
                            "      <th></th>\n",
                            "      <th>fixed acidity</th>\n",
                            "      <th>volatile acidity</th>\n",
                            "      <th>citric acid</th>\n",
                            "      <th>residual sugar</th>\n",
                            "      <th>chlorides</th>\n",
                            "      <th>free sulfur dioxide</th>\n",
                            "      <th>total sulfur dioxide</th>\n",
                            "      <th>density</th>\n",
                            "      <th>pH</th>\n",
                            "      <th>sulphates</th>\n",
                            "      <th>alcohol</th>\n",
                            "      <th>quality</th>\n",
                            "      <th>quality_classification</th>\n",
                            "    </tr>\n",
                            "  </thead>\n",
                            "  <tbody>\n",
                            "    <tr>\n",
                            "      <th>0</th>\n",
                            "      <td>7.4</td>\n",
                            "      <td>0.70</td>\n",
                            "      <td>0.00</td>\n",
                            "      <td>1.9</td>\n",
                            "      <td>0.076</td>\n",
                            "      <td>11.0</td>\n",
                            "      <td>34.0</td>\n",
                            "      <td>0.9978</td>\n",
                            "      <td>3.51</td>\n",
                            "      <td>0.56</td>\n",
                            "      <td>9.4</td>\n",
                            "      <td>5</td>\n",
                            "      <td>1</td>\n",
                            "    </tr>\n",
                            "    <tr>\n",
                            "      <th>1</th>\n",
                            "      <td>7.8</td>\n",
                            "      <td>0.88</td>\n",
                            "      <td>0.00</td>\n",
                            "      <td>2.6</td>\n",
                            "      <td>0.098</td>\n",
                            "      <td>25.0</td>\n",
                            "      <td>67.0</td>\n",
                            "      <td>0.9968</td>\n",
                            "      <td>3.20</td>\n",
                            "      <td>0.68</td>\n",
                            "      <td>9.8</td>\n",
                            "      <td>5</td>\n",
                            "      <td>1</td>\n",
                            "    </tr>\n",
                            "    <tr>\n",
                            "      <th>2</th>\n",
                            "      <td>7.8</td>\n",
                            "      <td>0.76</td>\n",
                            "      <td>0.04</td>\n",
                            "      <td>2.3</td>\n",
                            "      <td>0.092</td>\n",
                            "      <td>15.0</td>\n",
                            "      <td>54.0</td>\n",
                            "      <td>0.9970</td>\n",
                            "      <td>3.26</td>\n",
                            "      <td>0.65</td>\n",
                            "      <td>9.8</td>\n",
                            "      <td>5</td>\n",
                            "      <td>1</td>\n",
                            "    </tr>\n",
                            "    <tr>\n",
                            "      <th>3</th>\n",
                            "      <td>11.2</td>\n",
                            "      <td>0.28</td>\n",
                            "      <td>0.56</td>\n",
                            "      <td>1.9</td>\n",
                            "      <td>0.075</td>\n",
                            "      <td>17.0</td>\n",
                            "      <td>60.0</td>\n",
                            "      <td>0.9980</td>\n",
                            "      <td>3.16</td>\n",
                            "      <td>0.58</td>\n",
                            "      <td>9.8</td>\n",
                            "      <td>6</td>\n",
                            "      <td>1</td>\n",
                            "    </tr>\n",
                            "    <tr>\n",
                            "      <th>5</th>\n",
                            "      <td>7.4</td>\n",
                            "      <td>0.66</td>\n",
                            "      <td>0.00</td>\n",
                            "      <td>1.8</td>\n",
                            "      <td>0.075</td>\n",
                            "      <td>13.0</td>\n",
                            "      <td>40.0</td>\n",
                            "      <td>0.9978</td>\n",
                            "      <td>3.51</td>\n",
                            "      <td>0.56</td>\n",
                            "      <td>9.4</td>\n",
                            "      <td>5</td>\n",
                            "      <td>1</td>\n",
                            "    </tr>\n",
                            "  </tbody>\n",
                            "</table>\n",
                            "</div>"
                        ],
                        "text/plain": [
                            "   fixed acidity  volatile acidity  citric acid  residual sugar  chlorides  \\\n",
                            "0            7.4              0.70         0.00             1.9      0.076   \n",
                            "1            7.8              0.88         0.00             2.6      0.098   \n",
                            "2            7.8              0.76         0.04             2.3      0.092   \n",
                            "3           11.2              0.28         0.56             1.9      0.075   \n",
                            "5            7.4              0.66         0.00             1.8      0.075   \n",
                            "\n",
                            "   free sulfur dioxide  total sulfur dioxide  density    pH  sulphates  \\\n",
                            "0                 11.0                  34.0   0.9978  3.51       0.56   \n",
                            "1                 25.0                  67.0   0.9968  3.20       0.68   \n",
                            "2                 15.0                  54.0   0.9970  3.26       0.65   \n",
                            "3                 17.0                  60.0   0.9980  3.16       0.58   \n",
                            "5                 13.0                  40.0   0.9978  3.51       0.56   \n",
                            "\n",
                            "   alcohol  quality  quality_classification  \n",
                            "0      9.4        5                       1  \n",
                            "1      9.8        5                       1  \n",
                            "2      9.8        5                       1  \n",
                            "3      9.8        6                       1  \n",
                            "5      9.4        5                       1  "
                        ]
                    },
                    "execution_count": 128,
                    "metadata": {},
                    "output_type": "execute_result"
                }
            ],
            "source": [
                "df.head()"
            ]
        },
        {
            "cell_type": "code",
            "execution_count": 129,
            "metadata": {},
            "outputs": [],
            "source": [
                "# Dividir el conjunto de datos en características (X) y etiquetas (y)\n",
                "X = df[['fixed acidity','volatile acidity','citric acid','residual sugar','chlorides','free sulfur dioxide','total sulfur dioxide','density','pH','sulphates','alcohol']]\n",
                "y = df['quality_classification']\n",
                "\n",
                "# Dividir el conjunto de datos en conjuntos de entrenamiento y prueba\n",
                "X_train, X_test, y_train, y_test = train_test_split(X, y, test_size=0.2, random_state=42)"
            ]
        },
        {
            "cell_type": "markdown",
            "metadata": {},
            "source": [
                "## Escalar los datos"
            ]
        },
        {
            "cell_type": "code",
            "execution_count": 130,
            "metadata": {},
            "outputs": [],
            "source": [
                "scaler = StandardScaler()\n",
                "X_train_scaled = scaler.fit_transform(X_train)\n",
                "X_test_scaled = scaler.transform(X_test)"
            ]
        },
        {
            "cell_type": "markdown",
            "metadata": {},
            "source": [
                "## Entrenar el modelo KNN"
            ]
        },
        {
            "cell_type": "code",
            "execution_count": 131,
            "metadata": {},
            "outputs": [
                {
                    "data": {
                        "text/plain": [
                            "array([1, 1, 2, 1, 1, 2, 1, 1, 1, 1, 1, 1, 1, 1, 1, 1, 1, 1, 1, 1, 1, 1,\n",
                            "       1, 1, 1, 1, 1, 1, 1, 1, 1, 2, 1, 1, 1, 1, 1, 2, 1, 1, 0, 1, 2, 1,\n",
                            "       1, 1, 1, 1, 1, 1, 1, 1, 1, 1, 2, 1, 1, 1, 1, 1, 1, 1, 1, 1, 1, 1,\n",
                            "       1, 1, 1, 1, 1, 2, 1, 1, 1, 1, 1, 1, 1, 1, 1, 1, 1, 1, 1, 1, 1, 1,\n",
                            "       1, 1, 1, 1, 0, 1, 1, 1, 1, 2, 1, 1, 1, 1, 1, 1, 0, 1, 1, 1, 2, 1,\n",
                            "       1, 1, 1, 1, 1, 1, 1, 1, 1, 1, 1, 1, 1, 1, 1, 1, 1, 1, 1, 1, 1, 1,\n",
                            "       1, 1, 1, 1, 1, 1, 1, 1, 1, 1, 2, 1, 1, 1, 1, 1, 1, 1, 1, 1, 1, 1,\n",
                            "       1, 1, 1, 1, 2, 1, 1, 1, 1, 1, 1, 1, 1, 1, 1, 1, 2, 1, 2, 1, 2, 1,\n",
                            "       1, 1, 1, 2, 1, 1, 1, 1, 1, 2, 1, 1, 1, 1, 1, 1, 1, 1, 1, 1, 2, 1,\n",
                            "       2, 1, 1, 2, 1, 2, 1, 1, 1, 1, 1, 1, 2, 1, 1, 1, 1, 1, 2, 1, 1, 2,\n",
                            "       1, 1, 1, 1, 1, 1, 1, 1, 1, 1, 1, 1, 2, 1, 1, 2, 1, 1, 1, 1, 1, 1,\n",
                            "       1, 1, 1, 1, 1, 2, 1, 2, 1, 1, 2, 1, 1, 1, 1, 1, 1, 1, 1, 1, 1, 1,\n",
                            "       1, 1, 1, 2, 1, 1, 1, 1])"
                        ]
                    },
                    "execution_count": 131,
                    "metadata": {},
                    "output_type": "execute_result"
                }
            ],
            "source": [
                "# Definir el modelo con k=5\n",
                "knn = KNeighborsClassifier(n_neighbors=5)\n",
                "knn.fit(X_train_scaled, y_train)\n",
                "\n",
                "# Predecir en el conjunto de prueba\n",
                "y_pred = knn.predict(X_test_scaled)\n",
                "y_pred"
            ]
        },
        {
            "cell_type": "markdown",
            "metadata": {},
            "source": [
                "## Evaluación del rendimiento "
            ]
        },
        {
            "cell_type": "markdown",
            "metadata": {},
            "source": [
                "There are many metrics to measure the effectiveness of a model in predicting, including accuracy, which is the fraction of predictions that the model makes correctly"
            ]
        },
        {
            "cell_type": "code",
            "execution_count": 132,
            "metadata": {},
            "outputs": [
                {
                    "name": "stdout",
                    "output_type": "stream",
                    "text": [
                        "Precisión: 0.82\n",
                        "Matriz de Confusión:\n"
                    ]
                },
                {
                    "data": {
                        "image/png": "[encoded data removed]",
                        "text/plain": [
                            "<Figure size 600x400 with 2 Axes>"
                        ]
                    },
                    "metadata": {},
                    "output_type": "display_data"
                },
                {
                    "name": "stdout",
                    "output_type": "stream",
                    "text": [
                        "Reporte de Clasificación:\n",
                        "              precision    recall  f1-score   support\n",
                        "\n",
                        "           0       0.00      0.00      0.00        15\n",
                        "           1       0.86      0.93      0.89       223\n",
                        "           2       0.55      0.47      0.51        34\n",
                        "\n",
                        "    accuracy                           0.82       272\n",
                        "   macro avg       0.47      0.47      0.47       272\n",
                        "weighted avg       0.78      0.82      0.80       272\n",
                        "\n"
                    ]
                }
            ],
            "source": [
                "# Calcular precisión\n",
                "accuracy = accuracy_score(y_test, y_pred)\n",
                "print(f\"Precisión: {accuracy:.2f}\")\n",
                "\n",
                "# Matriz de confusión\n",
                "conf_matrix = confusion_matrix(y_test, y_pred)\n",
                "print(\"Matriz de Confusión:\")\n",
                "plt.figure(figsize=(6, 4))\n",
                "sns.heatmap(conf_matrix, annot=True, fmt=\"d\", cmap=\"Blues\")\n",
                "plt.xlabel(\"Predicciones\")\n",
                "plt.ylabel(\"Valores Reales\")\n",
                "plt.title(\"Matriz de Confusión KNN\")\n",
                "plt.show()\n",
                "\n",
                "# Reporte de clasificación\n",
                "class_report = classification_report(y_test, y_pred)\n",
                "print(\"Reporte de Clasificación:\")\n",
                "print(class_report)"
            ]
        },
        {
            "cell_type": "markdown",
            "metadata": {},
            "source": [
                "Fijándonos en la matriz de confusión vemos que el número de aciertos del modelo para el calidad 1 (calidad media) es con diferencia el mejor resultado. Lo que significa que nuestro modelo tiene buen desempeño prediciendo la clase 1 pero tiene dificultades con las clases 0 y 2. Por ejemplo, 0 aciertos para la clase 0. "
            ]
        },
        {
            "cell_type": "code",
            "execution_count": 133,
            "metadata": {},
            "outputs": [
                {
                    "data": {
                        "image/png": "[encoded data removed]",
                        "text/plain": [
                            "<Figure size 640x480 with 1 Axes>"
                        ]
                    },
                    "metadata": {},
                    "output_type": "display_data"
                }
            ],
            "source": [
                "sns.countplot(x=df['quality_classification'])\n",
                "plt.title(\"Distribución de calidad del vino\")\n",
                "plt.show()"
            ]
        },
        {
            "cell_type": "markdown",
            "metadata": {},
            "source": [
                "Buscando alternativas veo que existen estrategias para mejorar la clasificación en las clases menos representadas. Entre ellas, puede usarse la técnica SMOTE (imbalanced-learn) para generar ejemplos sintéticos de las clases menos representadas y equilibrar los datos.\n",
                "Sin embargo, estoy teniendo problemas para importar la librería correspondiente debido a incompatibilidades entre dentro de scikit-learn y imbalanced-learn."
            ]
        },
        {
            "cell_type": "markdown",
            "metadata": {},
            "source": [
                "# Optimización de K"
            ]
        },
        {
            "cell_type": "code",
            "execution_count": 134,
            "metadata": {},
            "outputs": [],
            "source": [
                "# Lista para almacenar resultados\n",
                "k_values = range(1, 21) # Permite probar diferentes configuraciones\n",
                "accuracies = []"
            ]
        },
        {
            "cell_type": "code",
            "execution_count": 135,
            "metadata": {},
            "outputs": [],
            "source": [
                "# Probar diferentes valores de k\n",
                "for k in k_values:\n",
                "    knn = KNeighborsClassifier(n_neighbors=k, algorithm='brute')\n",
                "    knn.fit(X_train_scaled, y_train)\n",
                "    y_pred = knn.predict(X_test_scaled)\n",
                "    accuracies.append(accuracy_score(y_test, y_pred))"
            ]
        },
        {
            "cell_type": "code",
            "execution_count": 136,
            "metadata": {},
            "outputs": [
                {
                    "data": {
                        "image/png": "[encoded data removed]",
                        "text/plain": [
                            "<Figure size 640x480 with 1 Axes>"
                        ]
                    },
                    "metadata": {},
                    "output_type": "display_data"
                }
            ],
            "source": [
                "# Graficar accuracy vs k\n",
                "plt.plot(k_values, accuracies, marker='o')\n",
                "plt.xlabel(\"Número de vecinos (k)\")\n",
                "plt.ylabel(\"Precisión\")\n",
                "plt.title(\"Optimización de k en KNN\")\n",
                "plt.show()"
            ]
        },
        {
            "cell_type": "code",
            "execution_count": 137,
            "metadata": {},
            "outputs": [
                {
                    "name": "stdout",
                    "output_type": "stream",
                    "text": [
                        "El mejor valor de k es 12 con una precisión de 0.88\n"
                    ]
                }
            ],
            "source": [
                "# Encontrar el índice con la máxima precisión\n",
                "best_k_index = np.argmax(accuracies)\n",
                "\n",
                "# Obtener el número de vecinos óptimo\n",
                "best_k = k_values[best_k_index]\n",
                "best_accuracy = accuracies[best_k_index]\n",
                "\n",
                "print(f\"El mejor valor de k es {best_k} con una precisión de {best_accuracy:.2f}\")"
            ]
        },
        {
            "cell_type": "code",
            "execution_count": 138,
            "metadata": {},
            "outputs": [
                {
                    "data": {
                        "text/plain": [
                            "array([1, 1, 2, 1, 1, 2, 1, 1, 1, 1, 1, 1, 1, 1, 1, 1, 1, 1, 1, 1, 1, 1,\n",
                            "       1, 1, 1, 1, 1, 1, 1, 1, 1, 2, 1, 1, 1, 1, 1, 1, 1, 1, 1, 1, 1, 1,\n",
                            "       1, 1, 1, 1, 1, 1, 1, 1, 1, 1, 1, 1, 1, 1, 1, 1, 1, 1, 1, 1, 1, 1,\n",
                            "       1, 1, 1, 1, 1, 2, 1, 1, 1, 1, 1, 1, 1, 1, 1, 1, 1, 1, 1, 1, 1, 1,\n",
                            "       1, 1, 1, 1, 1, 1, 1, 1, 1, 2, 1, 1, 1, 1, 1, 1, 1, 1, 1, 1, 1, 1,\n",
                            "       1, 1, 1, 1, 1, 1, 1, 1, 1, 1, 1, 1, 1, 1, 1, 1, 1, 1, 1, 1, 1, 1,\n",
                            "       1, 1, 1, 1, 1, 1, 1, 1, 1, 1, 1, 1, 1, 1, 1, 1, 1, 1, 1, 1, 1, 1,\n",
                            "       1, 1, 1, 1, 1, 2, 1, 1, 1, 1, 1, 1, 1, 1, 1, 1, 2, 1, 1, 1, 2, 1,\n",
                            "       1, 1, 1, 1, 1, 1, 1, 1, 1, 1, 1, 1, 1, 1, 1, 1, 2, 1, 1, 1, 2, 1,\n",
                            "       2, 1, 1, 2, 1, 2, 1, 1, 1, 1, 1, 1, 1, 1, 1, 1, 1, 1, 2, 2, 1, 1,\n",
                            "       1, 1, 1, 1, 1, 1, 1, 1, 1, 1, 1, 1, 2, 1, 1, 1, 1, 1, 1, 1, 1, 1,\n",
                            "       1, 1, 1, 1, 1, 1, 1, 2, 1, 1, 2, 1, 1, 1, 1, 1, 1, 1, 1, 1, 1, 1,\n",
                            "       1, 1, 1, 2, 1, 1, 1, 1])"
                        ]
                    },
                    "execution_count": 138,
                    "metadata": {},
                    "output_type": "execute_result"
                }
            ],
            "source": [
                "# Definir el modelo con k=12\n",
                "knn = KNeighborsClassifier(n_neighbors=12)\n",
                "knn.fit(X_train_scaled, y_train)\n",
                "\n",
                "# Predecir en el conjunto de prueba\n",
                "y_pred = knn.predict(X_test_scaled)\n",
                "y_pred"
            ]
        },
        {
            "cell_type": "code",
            "execution_count": 139,
            "metadata": {},
            "outputs": [
                {
                    "name": "stdout",
                    "output_type": "stream",
                    "text": [
                        "Precisión: 0.88\n",
                        "Matriz de Confusión:\n"
                    ]
                },
                {
                    "data": {
                        "image/png": "[encoded data removed]",
                        "text/plain": [
                            "<Figure size 600x400 with 2 Axes>"
                        ]
                    },
                    "metadata": {},
                    "output_type": "display_data"
                },
                {
                    "name": "stdout",
                    "output_type": "stream",
                    "text": [
                        "Reporte de Clasificación:\n",
                        "              precision    recall  f1-score   support\n",
                        "\n",
                        "           0       0.00      0.00      0.00        15\n",
                        "           1       0.87      0.99      0.93       223\n",
                        "           2       0.89      0.50      0.64        34\n",
                        "\n",
                        "    accuracy                           0.88       272\n",
                        "   macro avg       0.59      0.50      0.52       272\n",
                        "weighted avg       0.83      0.88      0.84       272\n",
                        "\n"
                    ]
                },
                {
                    "name": "stderr",
                    "output_type": "stream",
                    "text": [
                        "/home/vscode/.local/lib/python3.11/site-packages/sklearn/metrics/_classification.py:1706: UndefinedMetricWarning: Precision is ill-defined and being set to 0.0 in labels with no predicted samples. Use `zero_division` parameter to control this behavior.\n",
                        "  excluded, for example in multiclass classification to exclude a \"negative\n",
                        "/home/vscode/.local/lib/python3.11/site-packages/sklearn/metrics/_classification.py:1706: UndefinedMetricWarning: Precision is ill-defined and being set to 0.0 in labels with no predicted samples. Use `zero_division` parameter to control this behavior.\n",
                        "  excluded, for example in multiclass classification to exclude a \"negative\n",
                        "/home/vscode/.local/lib/python3.11/site-packages/sklearn/metrics/_classification.py:1706: UndefinedMetricWarning: Precision is ill-defined and being set to 0.0 in labels with no predicted samples. Use `zero_division` parameter to control this behavior.\n",
                        "  excluded, for example in multiclass classification to exclude a \"negative\n"
                    ]
                }
            ],
            "source": [
                "# Evaluación del rendimiento\n",
                "# Calcular precisión\n",
                "accuracy = accuracy_score(y_test, y_pred)\n",
                "print(f\"Precisión: {accuracy:.2f}\")\n",
                "\n",
                "# Matriz de confusión\n",
                "conf_matrix = confusion_matrix(y_test, y_pred)\n",
                "print(\"Matriz de Confusión:\")\n",
                "plt.figure(figsize=(6, 4))\n",
                "sns.heatmap(conf_matrix, annot=True, fmt=\"d\", cmap=\"Blues\")\n",
                "plt.xlabel(\"Predicciones\")\n",
                "plt.ylabel(\"Valores Reales\")\n",
                "plt.title(\"Matriz de Confusión KNN\")\n",
                "plt.show()\n",
                "\n",
                "# Reporte de clasificación\n",
                "class_report = classification_report(y_test, y_pred)\n",
                "print(\"Reporte de Clasificación:\")\n",
                "print(class_report)"
            ]
        },
        {
            "cell_type": "markdown",
            "metadata": {},
            "source": [
                "# Guardar el modelo entrenado"
            ]
        },
        {
            "cell_type": "code",
            "execution_count": 140,
            "metadata": {},
            "outputs": [
                {
                    "data": {
                        "text/plain": [
                            "['knn_wine_model.pkl']"
                        ]
                    },
                    "execution_count": 140,
                    "metadata": {},
                    "output_type": "execute_result"
                }
            ],
            "source": [
                "joblib.dump(knn, \"knn_wine_model.pkl\")"
            ]
        }
    ],
    "metadata": {
        "kernelspec": {
            "display_name": "Python 3",
            "language": "python",
            "name": "python3"
        },
        "language_info": {
            "codemirror_mode": {
                "name": "ipython",
                "version": 3
            },
            "file_extension": ".py",
            "mimetype": "text/x-python",
            "name": "python",
            "nbconvert_exporter": "python",
            "pygments_lexer": "ipython3",
            "version": "3.11.4"
        },
        "orig_nbformat": 4
    },
    "nbformat": 4,
    "nbformat_minor": 2
}
